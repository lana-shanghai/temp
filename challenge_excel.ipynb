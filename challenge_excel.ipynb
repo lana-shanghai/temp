{
 "cells": [
  {
   "cell_type": "markdown",
   "metadata": {},
   "source": [
    "### In the notebook, we load the user data and their weekly purchase information into a pandas dataframe and analyze the buying dynamics of each cohort."
   ]
  },
  {
   "cell_type": "markdown",
   "metadata": {},
   "source": [
    "\n"
   ]
  },
  {
   "cell_type": "code",
   "execution_count": 1,
   "metadata": {},
   "outputs": [],
   "source": [
    "from openpyxl import load_workbook\n",
    "import pandas as pd\n",
    "import matplotlib.pyplot as plt\n",
    "import numpy as np"
   ]
  },
  {
   "cell_type": "code",
   "execution_count": 2,
   "metadata": {},
   "outputs": [
    {
     "name": "stdout",
     "output_type": "stream",
     "text": [
      "<bound method Workbook.get_sheet_names of <openpyxl.workbook.workbook.Workbook object at 0x122b00b38>>\n"
     ]
    }
   ],
   "source": [
    "# Load the excel workbook, load the sheets into dataframes\n",
    "\n",
    "wb = load_workbook('ChallengeData.xlsx')\n",
    "print(wb.get_sheet_names)\n",
    "\n",
    "user_data = wb['user_data']\n",
    "week_total_purchases = wb['week_total_purchases']\n",
    "\n",
    "user_data = pd.DataFrame(user_data.values)\n",
    "week_total_purchases = pd.DataFrame(week_total_purchases.values)"
   ]
  },
  {
   "cell_type": "code",
   "execution_count": 3,
   "metadata": {},
   "outputs": [],
   "source": [
    "# Set the 0th row as the column names and then drop that row\n",
    "\n",
    "user_data.columns = user_data.iloc[0]\n",
    "week_total_purchases.columns = week_total_purchases.iloc[0]\n",
    "\n",
    "user_data = user_data.drop(0)\n",
    "week_total_purchases = week_total_purchases.drop(0)"
   ]
  },
  {
   "cell_type": "code",
   "execution_count": 4,
   "metadata": {},
   "outputs": [],
   "source": [
    "cols = ['week 1',\n",
    "        'week 2',\n",
    "        'week 3',\n",
    "        'week 4',\n",
    "        'week 5',\n",
    "        'week 6',\n",
    "        'week 7',\n",
    "        'week 8',\n",
    "        'week 9',\n",
    "        'week 10',\n",
    "        'week 11',\n",
    "        'week 12',\n",
    "        'week 13',\n",
    "        'week 14',\n",
    "        'week 15']"
   ]
  },
  {
   "cell_type": "code",
   "execution_count": 5,
   "metadata": {},
   "outputs": [],
   "source": [
    "week_total_purchases = week_total_purchases[['userid']+cols]"
   ]
  },
  {
   "cell_type": "code",
   "execution_count": 6,
   "metadata": {},
   "outputs": [
    {
     "data": {
      "text/html": [
       "<div>\n",
       "<style scoped>\n",
       "    .dataframe tbody tr th:only-of-type {\n",
       "        vertical-align: middle;\n",
       "    }\n",
       "\n",
       "    .dataframe tbody tr th {\n",
       "        vertical-align: top;\n",
       "    }\n",
       "\n",
       "    .dataframe thead th {\n",
       "        text-align: right;\n",
       "    }\n",
       "</style>\n",
       "<table border=\"1\" class=\"dataframe\">\n",
       "  <thead>\n",
       "    <tr style=\"text-align: right;\">\n",
       "      <th></th>\n",
       "      <th>userid</th>\n",
       "      <th>cohort</th>\n",
       "      <th>has_first_name</th>\n",
       "      <th>has_last_name</th>\n",
       "      <th>has_verfied_email</th>\n",
       "      <th>has_phone</th>\n",
       "      <th>number_of_items_watched</th>\n",
       "    </tr>\n",
       "  </thead>\n",
       "  <tbody>\n",
       "    <tr>\n",
       "      <th>1</th>\n",
       "      <td>1101</td>\n",
       "      <td>c</td>\n",
       "      <td>False</td>\n",
       "      <td>True</td>\n",
       "      <td>False</td>\n",
       "      <td>False</td>\n",
       "      <td>0</td>\n",
       "    </tr>\n",
       "    <tr>\n",
       "      <th>2</th>\n",
       "      <td>1105</td>\n",
       "      <td>a</td>\n",
       "      <td>True</td>\n",
       "      <td>True</td>\n",
       "      <td>False</td>\n",
       "      <td>True</td>\n",
       "      <td>1</td>\n",
       "    </tr>\n",
       "    <tr>\n",
       "      <th>3</th>\n",
       "      <td>1109</td>\n",
       "      <td>c</td>\n",
       "      <td>True</td>\n",
       "      <td>True</td>\n",
       "      <td>True</td>\n",
       "      <td>False</td>\n",
       "      <td>10</td>\n",
       "    </tr>\n",
       "    <tr>\n",
       "      <th>4</th>\n",
       "      <td>1118</td>\n",
       "      <td>a</td>\n",
       "      <td>True</td>\n",
       "      <td>False</td>\n",
       "      <td>False</td>\n",
       "      <td>False</td>\n",
       "      <td>0</td>\n",
       "    </tr>\n",
       "    <tr>\n",
       "      <th>5</th>\n",
       "      <td>1135</td>\n",
       "      <td>c</td>\n",
       "      <td>True</td>\n",
       "      <td>True</td>\n",
       "      <td>True</td>\n",
       "      <td>False</td>\n",
       "      <td>5</td>\n",
       "    </tr>\n",
       "  </tbody>\n",
       "</table>\n",
       "</div>"
      ],
      "text/plain": [
       "0 userid cohort has_first_name has_last_name has_verfied_email has_phone  \\\n",
       "1   1101      c          False          True             False     False   \n",
       "2   1105      a           True          True             False      True   \n",
       "3   1109      c           True          True              True     False   \n",
       "4   1118      a           True         False             False     False   \n",
       "5   1135      c           True          True              True     False   \n",
       "\n",
       "0 number_of_items_watched  \n",
       "1                       0  \n",
       "2                       1  \n",
       "3                      10  \n",
       "4                       0  \n",
       "5                       5  "
      ]
     },
     "execution_count": 6,
     "metadata": {},
     "output_type": "execute_result"
    }
   ],
   "source": [
    "user_data.head(5)"
   ]
  },
  {
   "cell_type": "code",
   "execution_count": 7,
   "metadata": {},
   "outputs": [
    {
     "data": {
      "text/html": [
       "<div>\n",
       "<style scoped>\n",
       "    .dataframe tbody tr th:only-of-type {\n",
       "        vertical-align: middle;\n",
       "    }\n",
       "\n",
       "    .dataframe tbody tr th {\n",
       "        vertical-align: top;\n",
       "    }\n",
       "\n",
       "    .dataframe thead th {\n",
       "        text-align: right;\n",
       "    }\n",
       "</style>\n",
       "<table border=\"1\" class=\"dataframe\">\n",
       "  <thead>\n",
       "    <tr style=\"text-align: right;\">\n",
       "      <th></th>\n",
       "      <th>userid</th>\n",
       "      <th>week 1</th>\n",
       "      <th>week 2</th>\n",
       "      <th>week 3</th>\n",
       "      <th>week 4</th>\n",
       "      <th>week 5</th>\n",
       "      <th>week 6</th>\n",
       "      <th>week 7</th>\n",
       "      <th>week 8</th>\n",
       "      <th>week 9</th>\n",
       "      <th>week 10</th>\n",
       "      <th>week 11</th>\n",
       "      <th>week 12</th>\n",
       "      <th>week 13</th>\n",
       "      <th>week 14</th>\n",
       "      <th>week 15</th>\n",
       "    </tr>\n",
       "  </thead>\n",
       "  <tbody>\n",
       "    <tr>\n",
       "      <th>1</th>\n",
       "      <td>1101</td>\n",
       "      <td>0</td>\n",
       "      <td>0</td>\n",
       "      <td>4</td>\n",
       "      <td>1</td>\n",
       "      <td>1</td>\n",
       "      <td>0</td>\n",
       "      <td>0</td>\n",
       "      <td>2</td>\n",
       "      <td>0</td>\n",
       "      <td>0</td>\n",
       "      <td>0</td>\n",
       "      <td>1</td>\n",
       "      <td>0</td>\n",
       "      <td>0</td>\n",
       "      <td>1</td>\n",
       "    </tr>\n",
       "    <tr>\n",
       "      <th>2</th>\n",
       "      <td>1105</td>\n",
       "      <td>6</td>\n",
       "      <td>5</td>\n",
       "      <td>3</td>\n",
       "      <td>4</td>\n",
       "      <td>4</td>\n",
       "      <td>2</td>\n",
       "      <td>0</td>\n",
       "      <td>0</td>\n",
       "      <td>1</td>\n",
       "      <td>0</td>\n",
       "      <td>3</td>\n",
       "      <td>3</td>\n",
       "      <td>0</td>\n",
       "      <td>0</td>\n",
       "      <td>1</td>\n",
       "    </tr>\n",
       "    <tr>\n",
       "      <th>3</th>\n",
       "      <td>1109</td>\n",
       "      <td>0</td>\n",
       "      <td>0</td>\n",
       "      <td>4</td>\n",
       "      <td>3</td>\n",
       "      <td>4</td>\n",
       "      <td>0</td>\n",
       "      <td>1</td>\n",
       "      <td>1</td>\n",
       "      <td>0</td>\n",
       "      <td>0</td>\n",
       "      <td>1</td>\n",
       "      <td>0</td>\n",
       "      <td>0</td>\n",
       "      <td>0</td>\n",
       "      <td>0</td>\n",
       "    </tr>\n",
       "    <tr>\n",
       "      <th>4</th>\n",
       "      <td>1118</td>\n",
       "      <td>0</td>\n",
       "      <td>2</td>\n",
       "      <td>3</td>\n",
       "      <td>5</td>\n",
       "      <td>0</td>\n",
       "      <td>0</td>\n",
       "      <td>0</td>\n",
       "      <td>2</td>\n",
       "      <td>1</td>\n",
       "      <td>0</td>\n",
       "      <td>3</td>\n",
       "      <td>3</td>\n",
       "      <td>0</td>\n",
       "      <td>0</td>\n",
       "      <td>0</td>\n",
       "    </tr>\n",
       "    <tr>\n",
       "      <th>5</th>\n",
       "      <td>1135</td>\n",
       "      <td>0</td>\n",
       "      <td>0</td>\n",
       "      <td>4</td>\n",
       "      <td>3</td>\n",
       "      <td>0</td>\n",
       "      <td>3</td>\n",
       "      <td>0</td>\n",
       "      <td>1</td>\n",
       "      <td>0</td>\n",
       "      <td>2</td>\n",
       "      <td>0</td>\n",
       "      <td>1</td>\n",
       "      <td>0</td>\n",
       "      <td>1</td>\n",
       "      <td>2</td>\n",
       "    </tr>\n",
       "  </tbody>\n",
       "</table>\n",
       "</div>"
      ],
      "text/plain": [
       "0 userid week 1 week 2 week 3 week 4 week 5 week 6 week 7 week 8 week 9  \\\n",
       "1   1101      0      0      4      1      1      0      0      2      0   \n",
       "2   1105      6      5      3      4      4      2      0      0      1   \n",
       "3   1109      0      0      4      3      4      0      1      1      0   \n",
       "4   1118      0      2      3      5      0      0      0      2      1   \n",
       "5   1135      0      0      4      3      0      3      0      1      0   \n",
       "\n",
       "0 week 10 week 11 week 12 week 13 week 14 week 15  \n",
       "1       0       0       1       0       0       1  \n",
       "2       0       3       3       0       0       1  \n",
       "3       0       1       0       0       0       0  \n",
       "4       0       3       3       0       0       0  \n",
       "5       2       0       1       0       1       2  "
      ]
     },
     "execution_count": 7,
     "metadata": {},
     "output_type": "execute_result"
    }
   ],
   "source": [
    "week_total_purchases.head(5)"
   ]
  },
  {
   "cell_type": "code",
   "execution_count": 8,
   "metadata": {},
   "outputs": [],
   "source": [
    "total = user_data.merge(week_total_purchases, left_on='userid', right_on='userid')"
   ]
  },
  {
   "cell_type": "code",
   "execution_count": 9,
   "metadata": {},
   "outputs": [
    {
     "data": {
      "text/html": [
       "<div>\n",
       "<style scoped>\n",
       "    .dataframe tbody tr th:only-of-type {\n",
       "        vertical-align: middle;\n",
       "    }\n",
       "\n",
       "    .dataframe tbody tr th {\n",
       "        vertical-align: top;\n",
       "    }\n",
       "\n",
       "    .dataframe thead th {\n",
       "        text-align: right;\n",
       "    }\n",
       "</style>\n",
       "<table border=\"1\" class=\"dataframe\">\n",
       "  <thead>\n",
       "    <tr style=\"text-align: right;\">\n",
       "      <th></th>\n",
       "      <th>week 1</th>\n",
       "      <th>week 2</th>\n",
       "      <th>week 3</th>\n",
       "      <th>week 4</th>\n",
       "      <th>week 5</th>\n",
       "      <th>week 6</th>\n",
       "      <th>week 7</th>\n",
       "      <th>week 8</th>\n",
       "      <th>week 9</th>\n",
       "      <th>week 10</th>\n",
       "      <th>week 11</th>\n",
       "      <th>week 12</th>\n",
       "      <th>week 13</th>\n",
       "      <th>week 14</th>\n",
       "      <th>week 15</th>\n",
       "    </tr>\n",
       "    <tr>\n",
       "      <th>cohort</th>\n",
       "      <th></th>\n",
       "      <th></th>\n",
       "      <th></th>\n",
       "      <th></th>\n",
       "      <th></th>\n",
       "      <th></th>\n",
       "      <th></th>\n",
       "      <th></th>\n",
       "      <th></th>\n",
       "      <th></th>\n",
       "      <th></th>\n",
       "      <th></th>\n",
       "      <th></th>\n",
       "      <th></th>\n",
       "      <th></th>\n",
       "    </tr>\n",
       "  </thead>\n",
       "  <tbody>\n",
       "    <tr>\n",
       "      <th>a</th>\n",
       "      <td>799</td>\n",
       "      <td>666</td>\n",
       "      <td>670</td>\n",
       "      <td>934</td>\n",
       "      <td>521</td>\n",
       "      <td>463</td>\n",
       "      <td>318</td>\n",
       "      <td>629</td>\n",
       "      <td>408</td>\n",
       "      <td>366</td>\n",
       "      <td>323</td>\n",
       "      <td>597</td>\n",
       "      <td>407</td>\n",
       "      <td>359</td>\n",
       "      <td>301</td>\n",
       "    </tr>\n",
       "    <tr>\n",
       "      <th>b</th>\n",
       "      <td>241</td>\n",
       "      <td>288</td>\n",
       "      <td>381</td>\n",
       "      <td>838</td>\n",
       "      <td>427</td>\n",
       "      <td>419</td>\n",
       "      <td>555</td>\n",
       "      <td>964</td>\n",
       "      <td>530</td>\n",
       "      <td>568</td>\n",
       "      <td>489</td>\n",
       "      <td>929</td>\n",
       "      <td>457</td>\n",
       "      <td>390</td>\n",
       "      <td>485</td>\n",
       "    </tr>\n",
       "    <tr>\n",
       "      <th>c</th>\n",
       "      <td>641</td>\n",
       "      <td>600</td>\n",
       "      <td>584</td>\n",
       "      <td>801</td>\n",
       "      <td>517</td>\n",
       "      <td>387</td>\n",
       "      <td>328</td>\n",
       "      <td>472</td>\n",
       "      <td>288</td>\n",
       "      <td>273</td>\n",
       "      <td>233</td>\n",
       "      <td>456</td>\n",
       "      <td>253</td>\n",
       "      <td>267</td>\n",
       "      <td>215</td>\n",
       "    </tr>\n",
       "  </tbody>\n",
       "</table>\n",
       "</div>"
      ],
      "text/plain": [
       "0       week 1  week 2  week 3  week 4  week 5  week 6  week 7  week 8  \\\n",
       "cohort                                                                   \n",
       "a          799     666     670     934     521     463     318     629   \n",
       "b          241     288     381     838     427     419     555     964   \n",
       "c          641     600     584     801     517     387     328     472   \n",
       "\n",
       "0       week 9  week 10  week 11  week 12  week 13  week 14  week 15  \n",
       "cohort                                                                \n",
       "a          408      366      323      597      407      359      301  \n",
       "b          530      568      489      929      457      390      485  \n",
       "c          288      273      233      456      253      267      215  "
      ]
     },
     "execution_count": 9,
     "metadata": {},
     "output_type": "execute_result"
    }
   ],
   "source": [
    "total.groupby('cohort')[cols].agg(np.sum)"
   ]
  },
  {
   "cell_type": "markdown",
   "metadata": {},
   "source": [
    "\n"
   ]
  },
  {
   "cell_type": "markdown",
   "metadata": {},
   "source": [
    "On the chart below we clearly see that cohort B has peaked compared to the other cohorts 9 out of 15 times. \n",
    "Also, the dynamics for each of the cohorts from week 1 towards week 15 are different: cohort A and C have declined with time, and cohort B has generally grown. This information indicates that cohort B is currently showing the best results in selling antibodies.\n"
   ]
  },
  {
   "cell_type": "markdown",
   "metadata": {},
   "source": [
    "\n"
   ]
  },
  {
   "cell_type": "code",
   "execution_count": 10,
   "metadata": {},
   "outputs": [
    {
     "data": {
      "text/plain": [
       "<matplotlib.axes._subplots.AxesSubplot at 0x123442780>"
      ]
     },
     "execution_count": 10,
     "metadata": {},
     "output_type": "execute_result"
    },
    {
     "data": {
      "image/png": "[encoded data removed]",
      "text/plain": [
       "<Figure size 864x576 with 1 Axes>"
      ]
     },
     "metadata": {
      "needs_background": "light"
     },
     "output_type": "display_data"
    }
   ],
   "source": [
    "total.groupby('cohort')[cols].agg(np.sum).T.plot.bar(figsize=(12,8))"
   ]
  },
  {
   "cell_type": "markdown",
   "metadata": {},
   "source": [
    "Below we see how many items were watched by each cohort."
   ]
  },
  {
   "cell_type": "markdown",
   "metadata": {},
   "source": [
    "\n"
   ]
  },
  {
   "cell_type": "code",
   "execution_count": 11,
   "metadata": {},
   "outputs": [
    {
     "data": {
      "text/plain": [
       "cohort\n",
       "a    2302\n",
       "b    1217\n",
       "c    2077\n",
       "Name: number_of_items_watched, dtype: int64"
      ]
     },
     "execution_count": 11,
     "metadata": {},
     "output_type": "execute_result"
    }
   ],
   "source": [
    "total.groupby('cohort')['number_of_items_watched'].agg(np.sum)"
   ]
  },
  {
   "cell_type": "markdown",
   "metadata": {},
   "source": [
    "\n"
   ]
  },
  {
   "cell_type": "markdown",
   "metadata": {},
   "source": [
    "Below we see how many users have filled out their names, phones, and verified emails.\n",
    "The most successful cohort B has the highest rate of verifying emails, because it is the necessary condition for actually making purchases, and at the same time, this cohort has the lowest numbers of filled out names and phones."
   ]
  },
  {
   "cell_type": "markdown",
   "metadata": {},
   "source": [
    "\n"
   ]
  },
  {
   "cell_type": "code",
   "execution_count": 12,
   "metadata": {},
   "outputs": [
    {
     "data": {
      "text/html": [
       "<div>\n",
       "<style scoped>\n",
       "    .dataframe tbody tr th:only-of-type {\n",
       "        vertical-align: middle;\n",
       "    }\n",
       "\n",
       "    .dataframe tbody tr th {\n",
       "        vertical-align: top;\n",
       "    }\n",
       "\n",
       "    .dataframe thead th {\n",
       "        text-align: right;\n",
       "    }\n",
       "</style>\n",
       "<table border=\"1\" class=\"dataframe\">\n",
       "  <thead>\n",
       "    <tr style=\"text-align: right;\">\n",
       "      <th></th>\n",
       "      <th>has_first_name</th>\n",
       "      <th>has_last_name</th>\n",
       "      <th>has_verfied_email</th>\n",
       "      <th>has_phone</th>\n",
       "    </tr>\n",
       "    <tr>\n",
       "      <th>cohort</th>\n",
       "      <th></th>\n",
       "      <th></th>\n",
       "      <th></th>\n",
       "      <th></th>\n",
       "    </tr>\n",
       "  </thead>\n",
       "  <tbody>\n",
       "    <tr>\n",
       "      <th>a</th>\n",
       "      <td>241</td>\n",
       "      <td>332</td>\n",
       "      <td>191</td>\n",
       "      <td>123</td>\n",
       "    </tr>\n",
       "    <tr>\n",
       "      <th>b</th>\n",
       "      <td>181</td>\n",
       "      <td>241</td>\n",
       "      <td>266</td>\n",
       "      <td>85</td>\n",
       "    </tr>\n",
       "    <tr>\n",
       "      <th>c</th>\n",
       "      <td>271</td>\n",
       "      <td>374</td>\n",
       "      <td>123</td>\n",
       "      <td>109</td>\n",
       "    </tr>\n",
       "  </tbody>\n",
       "</table>\n",
       "</div>"
      ],
      "text/plain": [
       "0       has_first_name  has_last_name  has_verfied_email  has_phone\n",
       "cohort                                                             \n",
       "a                  241            332                191        123\n",
       "b                  181            241                266         85\n",
       "c                  271            374                123        109"
      ]
     },
     "execution_count": 12,
     "metadata": {},
     "output_type": "execute_result"
    }
   ],
   "source": [
    "total.groupby('cohort')[['has_first_name', 'has_last_name', \n",
    "                         'has_verfied_email', 'has_phone']].sum()"
   ]
  },
  {
   "cell_type": "code",
   "execution_count": null,
   "metadata": {},
   "outputs": [],
   "source": []
  }
 ],
 "metadata": {
  "kernelspec": {
   "display_name": "Python 3",
   "language": "python",
   "name": "python3"
  },
  "language_info": {
   "codemirror_mode": {
    "name": "ipython",
    "version": 3
   },
   "file_extension": ".py",
   "mimetype": "text/x-python",
   "name": "python",
   "nbconvert_exporter": "python",
   "pygments_lexer": "ipython3",
   "version": "3.7.0"
  }
 },
 "nbformat": 4,
 "nbformat_minor": 2
}
